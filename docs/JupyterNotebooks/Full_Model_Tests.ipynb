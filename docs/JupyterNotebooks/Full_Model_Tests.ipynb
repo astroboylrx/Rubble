{
 "cells": [
  {
   "cell_type": "code",
   "execution_count": 5,
   "metadata": {
    "ExecuteTime": {
     "end_time": "2021-01-07T03:23:28.401101Z",
     "start_time": "2021-01-07T03:23:28.398143Z"
    }
   },
   "outputs": [],
   "source": [
    "import numpy as np\n",
    "import matplotlib.pyplot as plt\n",
    "from rubble import Rubble, RubbleData"
   ]
  },
  {
   "cell_type": "code",
   "execution_count": 4,
   "metadata": {
    "ExecuteTime": {
     "end_time": "2021-01-07T03:23:00.851621Z",
     "start_time": "2021-01-07T03:23:00.843785Z"
    }
   },
   "outputs": [],
   "source": [
    "%matplotlib nbagg"
   ]
  },
  {
   "cell_type": "code",
   "execution_count": null,
   "metadata": {},
   "outputs": [],
   "source": []
  },
  {
   "cell_type": "code",
   "execution_count": 7,
   "metadata": {
    "ExecuteTime": {
     "end_time": "2021-01-07T03:24:46.053953Z",
     "start_time": "2021-01-07T03:24:46.047655Z"
    }
   },
   "outputs": [],
   "source": [
    "# Testing parameters\n",
    "alpha = np.logspace(-3, -2, 5); u_f = np.logspace(2, 3, 5); npts = 5; Rs_sim = 1.8; Bs_sim = 1.5; \n",
    "paras = np.array([\n",
    "    [1.5, 1.8, 1.973854786578862e-09, 0.09785230336148297, 42928745810.494060,  0.02932592607042491, \n",
    "     1578.7776283985802, 1116.6342886511695, 11.166342886511696, 0.010391914679865373],\n",
    "    [1.5, 1.8, 1.973854786578862e-09, 0.09785230336148297, 40527349387.710686,  0.02768545946394155,\n",
    "     1407.0870424148045,  704.5486055228718,  7.045486055228718, 0.011007674336371951],\n",
    "    [1.5, 1.8, 1.973854786578862e-09, 0.09785230336148297, 38260284976.507935, 0.026136759121907074,\n",
    "     1254.067646588032,  444.5401171979344,  4.445401171979344,  0.01165992004634043],\n",
    "    [1.5, 1.8, 1.973854786578862e-09, 0.09785230336148297, 36120038161.871216, 0.024674691719901685,\n",
    "     1117.6889665047618, 280.48585186212256,  2.804858518621226,  0.01235081374435545],\n",
    "    [1.5, 1.8, 1.973854786578862e-09, 0.09785230336148297, 34099514878.577137, 0.023294411087175403,\n",
    "     996.1413399391055,  176.9746082551897, 1.7697460825518971, 0.013082645467679368]])\n",
    "Rs, Bs, Mdot, R_accu, H, HoverR, T, Sigma_g, Sigma_d, a_critD = paras.T"
   ]
  },
  {
   "cell_type": "code",
   "execution_count": null,
   "metadata": {},
   "outputs": [],
   "source": []
  },
  {
   "cell_type": "code",
   "execution_count": 11,
   "metadata": {
    "ExecuteTime": {
     "end_time": "2021-01-07T08:09:03.407766Z",
     "start_time": "2021-01-07T08:09:03.404610Z"
    }
   },
   "outputs": [
    {
     "name": "stdout",
     "output_type": "stream",
     "text": [
      "0.001 562.341325190349\n"
     ]
    }
   ],
   "source": [
    "# choose an easy condition\n",
    "idx = 0; u_idx = 3\n",
    "print(alpha[idx], u_f[u_idx])"
   ]
  },
  {
   "cell_type": "code",
   "execution_count": 12,
   "metadata": {
    "ExecuteTime": {
     "end_time": "2021-01-07T08:09:57.191628Z",
     "start_time": "2021-01-07T08:09:56.581214Z"
    }
   },
   "outputs": [],
   "source": [
    "# create a Rubble instance\n",
    "r = Rubble(151, 1e-3, 1e4, 3.5, Sigma_d[idx], u_f=u_f[u_idx], \n",
    "           ranged_dist=[1e-3, 1e2], \n",
    "           Sigma_g = Sigma_g[idx], H = H[idx], T = T[idx], alpha = alpha[idx],    \n",
    "           Raccu = R_accu[idx], Z=0.01, Mdot = Mdot[idx], a_critD = a_critD[idx], a_max_in=100, \n",
    "           res_file=f'full_model_test.dat', log_file=f'full_model_test.log')"
   ]
  },
  {
   "cell_type": "code",
   "execution_count": 13,
   "metadata": {
    "ExecuteTime": {
     "end_time": "2021-01-07T08:10:43.612008Z",
     "start_time": "2021-01-07T08:10:08.430379Z"
    }
   },
   "outputs": [],
   "source": [
    "r.closed_box_flag = False\n",
    "r.simulation(200, 1, 1, out_log=True, debug=True)"
   ]
  },
  {
   "cell_type": "code",
   "execution_count": null,
   "metadata": {},
   "outputs": [],
   "source": []
  },
  {
   "cell_type": "code",
   "execution_count": 16,
   "metadata": {
    "ExecuteTime": {
     "end_time": "2021-01-07T09:03:55.086884Z",
     "start_time": "2021-01-07T09:03:55.080860Z"
    },
    "scrolled": false
   },
   "outputs": [
    {
     "name": "stdout",
     "output_type": "stream",
     "text": [
      "Help on class Rubble in module rubble.rubble:\n",
      "\n",
      "class Rubble(builtins.object)\n",
      " |  Rubble(num_grid, amin, amax, q, Sigma_d, rho_m=1.6, **kwargs)\n",
      " |  \n",
      " |  Simulate the local evolution of solid size distributions in Protoplanetary Disks (PPDs)\n",
      " |  \n",
      " |  Methods defined here:\n",
      " |  \n",
      " |  N2Sigma(self, any_N)\n",
      " |      Convert vertically integrated surface number density per log mass to total dust surface density\n",
      " |  \n",
      " |  __init__(self, num_grid, amin, amax, q, Sigma_d, rho_m=1.6, **kwargs)\n",
      " |      Initialize the radius/mass grid of solid particles, distribute solids and prepare kernels\n",
      " |      \n",
      " |      Parameters\n",
      " |      ----------\n",
      " |      num_grid : int\n",
      " |          number of grid cells along radius/mass grid\n",
      " |      amin : float\n",
      " |          minimum particle radius, in units of cm\n",
      " |      amax : float\n",
      " |          maximum particle radius, in units of cm\n",
      " |      q : float\n",
      " |          initial power law index of the size distribution\n",
      " |      Sigma_d : float\n",
      " |          total dust surface density, in units of g/cm^2\n",
      " |      rho_m : float\n",
      " |          material density of solids, in units of g/cm^3, default to 1.6\n",
      " |      kwargs\n",
      " |          other disk parameters and numerical parameters\n",
      " |      \n",
      " |          1. Rubble needs the following gas quantities to calculate Stokes number:\n",
      " |            - Sigma_g: gas surface density, default to 18 g/cm^2\n",
      " |            - H      : gas scale height, default to 498428865231.9126 cm\n",
      " |            - T      : gas temperature:, default to 196 K\n",
      " |            - alpha  : alpha-parameter, default to 1e-3\n",
      " |          \n",
      " |          2. The following keywords can be used to customize the initial solid distribution \n",
      " |              (by default, solids will be distribute to all size bins)\n",
      " |              (assuming a_delta, a_i, a_f are float numbers denoting sizes)\n",
      " |            - delta_dist = a_delta, put all solids in one single bin that is closest to a_delta\n",
      " |            - ranged_dist = [a_i, a_f], put solids into bins within size range from a_i to a_f\n",
      " |          \n",
      " |          3. Numerically, you may vary the following quantities to control solid evolution:\n",
      " |            - xi    : power law index of fragment distribution, default to 1.83\n",
      " |            - chi   : mass excavated from target by projectile due to cratering, default to 1 (unit: projectile mass)\n",
      " |            - chi_MT: mass transferred from the projectile to target, default to 0.1 (unit: projectile mass)\n",
      " |            - u_b   : velocity threshold for bouncing, default to 5 cm/s\n",
      " |            - u_f   : velocity threshold for fragmentation, default to 100 cm/s\n",
      " |          \n",
      " |          4. Also, Rubble needs the following quantities if closed_box_flag is False:\n",
      " |              (this flag is used to study the dust accumulation in the pressure bump at/near the inner disk boundary,\n",
      " |              REFs: Li, Chen, and Lin, in prep)\n",
      " |            - Raccu   : accumulation radius, default to 0.1 AU\n",
      " |            - Mdot    : stellar accretion rate, default to 3e-9 solar mass / year\n",
      " |            - Z       : dust-to-gas ratio of the accreted materials, default to 0.01\n",
      " |            - a_critD : critical particle size below which will be lifted by the accretion funnel, default to 0.01 cm\n",
      " |            - a_max_in: maximum solid size in the accreted materials (i.e., max supply size), default to 10 cm\n",
      " |  \n",
      " |  calculate_St(self)\n",
      " |      Calculate the Stokes number of particles (and dv) \n",
      " |      \n",
      " |      REFs: Section 3.5 and Eqs. 10, 14, 57 in Birnstiel+2010\n",
      " |  \n",
      " |  calculate_dv(self)\n",
      " |      Calculate the relative velocities between particles\n",
      " |      \n",
      " |      Currently, we only consider relative velocities from Brownian motions and gas turbulence.\n",
      " |      \n",
      " |      REFs: Ormel & Cuzzi 2007, Birnstiel+2010\n",
      " |  \n",
      " |  calculate_kernels(self)\n",
      " |      Calculate the kernel for coagulation and fragmentation (ghost zones only takes mass)\n",
      " |      \n",
      " |      REFs: Brauer+2008, Birnstiel+2010, 2011, Windmark+2012\n",
      " |  \n",
      " |  distribute_solids(self)\n",
      " |      Distribute the solids into all the grid by power law\n",
      " |  \n",
      " |  dump_ascii_data(self, first_dump=False)\n",
      " |      Dump run data to a file by appending\n",
      " |  \n",
      " |  dump_bin_data(self, first_dump=False, open4restart=False)\n",
      " |      Dump run data to a file\n",
      " |  \n",
      " |  enforce_mass_con(self)\n",
      " |      Enforce the conservation of total solid mass\n",
      " |      \n",
      " |      It is impossible to avoid rounding errors (see discussion in Garaud+2013).\n",
      " |      Here, we follow their method to enforce mass conservation but we enforce it every timestep.\n",
      " |  \n",
      " |  flag_updated(self, flag_name)\n",
      " |      Update flag sensitive kernels if needed whenever a flag changes\n",
      " |  \n",
      " |  init_disk_parameters(self)\n",
      " |      Obtain disk parameters, de-clutter other functions\n",
      " |  \n",
      " |  init_powerlaw_fragmentation_coeff(self)\n",
      " |      Initialize numerical parameters needed for calculating coefficients for fragmentation kernels\n",
      " |  \n",
      " |  init_update_solids(self)\n",
      " |      Initialized accretion info and calculate the loss/supply rate of solids\n",
      " |  \n",
      " |  one_step_for_animation(self, dt)\n",
      " |      Evolve one step implicitly with post processing for animation use\n",
      " |  \n",
      " |  one_step_implicit(self, dt)\n",
      " |      Evolve the particle distribution for dt with one implicit step\n",
      " |  \n",
      " |  open_dump_file(self, mode)\n",
      " |      open file handler for data dump\n",
      " |  \n",
      " |  piecewise_coagulation_coeff(self)\n",
      " |      Calculate the coefficients needed to piecewisely distribute coagulation mass\n",
      " |      \n",
      " |      There are two ways to distribute mass gain from m_i+m_j: one is piecewise reconstruction in Brauer+2008,\n",
      " |      the other is to retain all mass gained in the cell and convert to number density at the closest cell center.\n",
      " |      In this function, we go with the first method by default. Specify 'coag2nearest' to use the second method.\n",
      " |      \n",
      " |      Notes:\n",
      " |      assume m_m < m_i+m_j < m_n, where m_m and m_n are the nearest cell centers\n",
      " |      Q_ij = K_ij n_i n_j will be distributed to m_m and m_n by epsilon and (1 - epsilon), respectively\n",
      " |      also [epsilon Q_ij m_m + (1-epsilon) Q_ij m_n] should = Q_ij (m_i + m_j)\n",
      " |      thus epsilon = [m_n - (m_i + m_j)] / (m_n - m_m)\n",
      " |      \n",
      " |      for the second method, use epsilon = (m_i + m_j) / m_nearest\n",
      " |      \n",
      " |      Keep in mind that we need to put all the masses exceeding the ghost zone to the ghost zone\n",
      " |      e.g., when m_m is the right ghost zone, epsilon = (m_i + m_j) / m_rgz\n",
      " |  \n",
      " |  powerlaw_fragmentation_coeff(self)\n",
      " |      Calculate the coefficients needed to distribute fragments by a power law\n",
      " |      \n",
      " |      This function also includes the PRESCRIBED cratering effects and mass transfer effects and a smooth\n",
      " |      transition between these two effects.\n",
      " |      \n",
      " |      REFs: Birnstiel+2010, Windmark+2012\n",
      " |  \n",
      " |  simulation(self, tlim, dt, out_dt, burnin_dt=0.0027378507871321013, out_log=False, dump='bin', debug=False)\n",
      " |      Run simulations and dump results\n",
      " |      \n",
      " |      Parameters\n",
      " |      ----------\n",
      " |      tlim : float\n",
      " |          total run time, in units of year\n",
      " |      dt : float\n",
      " |          time step, in units of year\n",
      " |      out_dt : float\n",
      " |          time interval to dump data, in units of year\n",
      " |      burnin_dt : float\n",
      " |          transitional tiny timestep at the beginning to evolve smoothly, default: 1 day\n",
      " |      out_log : bool\n",
      " |          whether or not to print log/info/warning/errors to file or to console\n",
      " |      dump : str\n",
      " |          'bin' (default): dumping binary data; 'ascii': dumping ascii data\n",
      " |      debug : bool\n",
      " |          set to True to pass to self.debug_flag\n",
      " |      \n",
      " |      Notes\n",
      " |      -----\n",
      " |      1. The results of solving the Smoluchowski equation is known to depend on resolution, initial setup,\n",
      " |      and the length of time step.  Be sure to test different setups and find the converging behaviors.\n",
      " |      \n",
      " |      2. For restarting a simulation, you can directly run this function with a larger tlim\n",
      " |      (N.B.: restarting from an unfinished burn-in phase may produce slightly different results)\n",
      " |  \n",
      " |  update_kernels(self)\n",
      " |      Update collisional kernels\n",
      " |  \n",
      " |  update_solids(self, dt)\n",
      " |      Update the particle distribution every time step if needed\n",
      " |  \n",
      " |  ----------------------------------------------------------------------\n",
      " |  Data descriptors defined here:\n",
      " |  \n",
      " |  __dict__\n",
      " |      dictionary for instance variables (if defined)\n",
      " |  \n",
      " |  __weakref__\n",
      " |      list of weak references to the object (if defined)\n",
      " |  \n",
      " |  bouncing_flag\n",
      " |      Making flags Descriptors so kernels can be updated when flags change\n",
      " |      \n",
      " |      REFs: https://stackoverflow.com/a/30868941/4009531\n",
      " |  \n",
      " |  closed_box_flag\n",
      " |      Making flags Descriptors so kernels can be updated when flags change\n",
      " |      \n",
      " |      REFs: https://stackoverflow.com/a/30868941/4009531\n",
      " |  \n",
      " |  debug_flag\n",
      " |      Making flags Descriptors so kernels can be updated when flags change\n",
      " |      \n",
      " |      REFs: https://stackoverflow.com/a/30868941/4009531\n",
      " |  \n",
      " |  frag_flag\n",
      " |      Making flags Descriptors so kernels can be updated when flags change\n",
      " |      \n",
      " |      REFs: https://stackoverflow.com/a/30868941/4009531\n",
      " |  \n",
      " |  mass_transfer_flag\n",
      " |      Making flags Descriptors so kernels can be updated when flags change\n",
      " |      \n",
      " |      REFs: https://stackoverflow.com/a/30868941/4009531\n",
      " |  \n",
      " |  simple_St_flag\n",
      " |      Making flags Descriptors so kernels can be updated when flags change\n",
      " |      \n",
      " |      REFs: https://stackoverflow.com/a/30868941/4009531\n",
      " |  \n",
      " |  vel_dist_flag\n",
      " |      Making flags Descriptors so kernels can be updated when flags change\n",
      " |      \n",
      " |      REFs: https://stackoverflow.com/a/30868941/4009531\n",
      " |  \n",
      " |  ----------------------------------------------------------------------\n",
      " |  Data and other attributes defined here:\n",
      " |  \n",
      " |  FlagProperty = <class 'rubble.rubble.Rubble.FlagProperty'>\n",
      " |      Making flags Descriptors so kernels can be updated when flags change\n",
      " |      \n",
      " |      REFs: https://stackoverflow.com/a/30868941/4009531\n",
      "\n"
     ]
    }
   ],
   "source": [
    "help(Rubble)"
   ]
  },
  {
   "cell_type": "code",
   "execution_count": null,
   "metadata": {},
   "outputs": [],
   "source": []
  }
 ],
 "metadata": {
  "kernelspec": {
   "display_name": "idp",
   "language": "python",
   "name": "idp"
  },
  "language_info": {
   "codemirror_mode": {
    "name": "ipython",
    "version": 3
   },
   "file_extension": ".py",
   "mimetype": "text/x-python",
   "name": "python",
   "nbconvert_exporter": "python",
   "pygments_lexer": "ipython3",
   "version": "3.7.9"
  }
 },
 "nbformat": 4,
 "nbformat_minor": 4
}
